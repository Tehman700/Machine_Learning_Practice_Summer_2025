{
 "cells": [
  {
   "cell_type": "markdown",
   "id": "a497a622",
   "metadata": {},
   "source": [
    "# This is for the Understanding of Gradient Descent from Scracth its Mathematical and Coding Approach"
   ]
  },
  {
   "cell_type": "code",
   "execution_count": 237,
   "id": "eb96c3e2",
   "metadata": {},
   "outputs": [],
   "source": [
    "from sklearn.datasets import make_regression\n",
    "import matplotlib.pyplot as plt\n",
    "import numpy as np"
   ]
  },
  {
   "cell_type": "code",
   "execution_count": 238,
   "id": "ec449e50",
   "metadata": {},
   "outputs": [
    {
     "data": {
      "text/plain": [
       "<matplotlib.collections.PathCollection at 0x247d05c9600>"
      ]
     },
     "execution_count": 238,
     "metadata": {},
     "output_type": "execute_result"
    },
    {
     "data": {
      "image/png": "[encoded data removed]",
      "text/plain": [
       "<Figure size 640x480 with 1 Axes>"
      ]
     },
     "metadata": {},
     "output_type": "display_data"
    }
   ],
   "source": [
    "X, Y = make_regression(n_samples=100, n_features=1,n_informative=1,n_targets=1, noise =20)\n",
    "plt.scatter(X,Y)"
   ]
  },
  {
   "cell_type": "code",
   "execution_count": 239,
   "id": "678fd7df",
   "metadata": {},
   "outputs": [],
   "source": [
    "from sklearn.model_selection import train_test_split\n",
    "from sklearn.linear_model import SGDRegressor, LinearRegression\n"
   ]
  },
  {
   "cell_type": "code",
   "execution_count": 240,
   "id": "eca33c15",
   "metadata": {},
   "outputs": [],
   "source": [
    "X_train, X_test,Y_train,Y_test = train_test_split(X,Y, test_size =0.2, random_state=3)"
   ]
  },
  {
   "cell_type": "code",
   "execution_count": 241,
   "id": "0dfcad47",
   "metadata": {},
   "outputs": [
    {
     "data": {
      "text/plain": [
       "array([98.30716883])"
      ]
     },
     "execution_count": 241,
     "metadata": {},
     "output_type": "execute_result"
    }
   ],
   "source": [
    "f = LinearRegression()\n",
    "f.fit(X_train, Y_train)\n",
    "f.coef_"
   ]
  },
  {
   "cell_type": "code",
   "execution_count": 242,
   "id": "24ba2e09",
   "metadata": {},
   "outputs": [
    {
     "data": {
      "text/plain": [
       "np.float64(894.9172403793765)"
      ]
     },
     "execution_count": 242,
     "metadata": {},
     "output_type": "execute_result"
    }
   ],
   "source": [
    "# Lets say b = 0\n",
    "b = 0\n",
    "learning_rate = 0.1\n",
    "m = f.coef_\n",
    "\n",
    "slope = -2 * np.sum(Y - m*X.ravel() - b)\n",
    "slope"
   ]
  },
  {
   "cell_type": "code",
   "execution_count": null,
   "id": "412e0a9d",
   "metadata": {},
   "outputs": [
    {
     "ename": "ValueError",
     "evalue": "cannot reshape array of size 100 into shape (4,)",
     "output_type": "error",
     "traceback": [
      "\u001b[1;31m---------------------------------------------------------------------------\u001b[0m",
      "\u001b[1;31mValueError\u001b[0m                                Traceback (most recent call last)",
      "Cell \u001b[1;32mIn[247], line 4\u001b[0m\n\u001b[0;32m      1\u001b[0m b \u001b[38;5;241m=\u001b[39m b \u001b[38;5;241m-\u001b[39m (learning_rate \u001b[38;5;241m*\u001b[39m slope)\n\u001b[0;32m      2\u001b[0m b\n\u001b[1;32m----> 4\u001b[0m y_pred \u001b[38;5;241m=\u001b[39m \u001b[43m(\u001b[49m\u001b[43m(\u001b[49m\u001b[43mm\u001b[49m\u001b[43m \u001b[49m\u001b[38;5;241;43m*\u001b[39;49m\u001b[43m \u001b[49m\u001b[43mX\u001b[49m\u001b[43m)\u001b[49m\u001b[43m \u001b[49m\u001b[38;5;241;43m+\u001b[39;49m\u001b[43m \u001b[49m\u001b[43mb\u001b[49m\u001b[43m)\u001b[49m\u001b[38;5;241;43m.\u001b[39;49m\u001b[43mreshape\u001b[49m\u001b[43m(\u001b[49m\u001b[38;5;241;43m4\u001b[39;49m\u001b[43m)\u001b[49m\n\u001b[0;32m      5\u001b[0m plt\u001b[38;5;241m.\u001b[39mscatter(X,Y)\n",
      "\u001b[1;31mValueError\u001b[0m: cannot reshape array of size 100 into shape (4,)"
     ]
    }
   ],
   "source": [
    "b = b - (learning_rate * slope)\n",
    "b\n",
    "\n",
    "y_pred = ((m * X) + b).reshape(4)\n",
    "plt.scatter(X,Y)\n",
    "\n"
   ]
  },
  {
   "cell_type": "code",
   "execution_count": 244,
   "id": "baa16b86",
   "metadata": {},
   "outputs": [
    {
     "data": {
      "text/plain": [
       "np.float64(1094.9172403793762)"
      ]
     },
     "execution_count": 244,
     "metadata": {},
     "output_type": "execute_result"
    }
   ],
   "source": [
    "b = 1\n",
    "slope = -2 * np.sum(Y - m*X.ravel() - b)\n",
    "slope"
   ]
  },
  {
   "cell_type": "code",
   "execution_count": 245,
   "id": "7eba8d4a",
   "metadata": {},
   "outputs": [
    {
     "data": {
      "text/plain": [
       "np.float64(-108.49172403793762)"
      ]
     },
     "execution_count": 245,
     "metadata": {},
     "output_type": "execute_result"
    }
   ],
   "source": [
    "b = b - (learning_rate * slope)\n",
    "b"
   ]
  },
  {
   "cell_type": "code",
   "execution_count": 246,
   "id": "5c4d0365",
   "metadata": {},
   "outputs": [
    {
     "name": "stdout",
     "output_type": "stream",
     "text": [
      "-89.49172403793766\n",
      "1610.8510326828778\n",
      "-30695.661345012624\n",
      "583128.0738312019\n",
      "-11079522.894516874\n",
      "210510845.50409654\n",
      "-3999706154.0695586\n",
      "75994416837.82988\n",
      "-1443893920008.2598\n",
      "27433984480067.445\n",
      "-521245705121371.0\n",
      "9903668397305960.0\n",
      "-1.8816969954881334e+17\n",
      "3.575224291427454e+18\n",
      "-6.7929261537121665e+19\n",
      "1.290655969205312e+21\n",
      "-2.452246341490093e+22\n",
      "4.659268048831176e+23\n",
      "-8.85260929277924e+24\n",
      "1.681995765628055e+26\n",
      "-3.1957919546933046e+27\n",
      "6.072004713917279e+28\n",
      "-1.1536808956442837e+30\n",
      "2.1919937017241387e+31\n",
      "-4.164788033275864e+32\n",
      "7.913097263224144e+33\n",
      "-1.5034884800125872e+35\n",
      "2.856628112023917e+36\n",
      "-5.427593412845442e+37\n",
      "1.0312427484406337e+39\n",
      "-1.9593612220372032e+40\n",
      "3.722786321870686e+41\n",
      "-7.073294011554306e+42\n",
      "1.3439258621953182e+44\n",
      "-2.553459138171104e+45\n",
      "4.851572362525097e+46\n",
      "-9.217987488797686e+47\n",
      "1.75141762287156e+49\n",
      "-3.3276934834559653e+50\n",
      "6.322617618566333e+51\n",
      "-1.2012973475276033e+53\n",
      "2.2824649603024464e+54\n",
      "-4.3366834245746485e+55\n",
      "8.239698506691834e+56\n",
      "-1.5655427162714485e+58\n",
      "2.9745311609157525e+59\n",
      "-5.651609205739928e+60\n",
      "1.0738057490905867e+62\n",
      "-2.0402309232721155e+63\n",
      "3.876438754217019e+64\n",
      "-7.365233633012336e+65\n",
      "1.399394390272344e+67\n",
      "-2.658849341517455e+68\n",
      "5.051813748883164e+69\n",
      "-9.59844612287801e+70\n",
      "1.823704763346821e+72\n",
      "-3.4650390503589624e+73\n",
      "6.583574195682028e+74\n",
      "-1.2508790971795854e+76\n",
      "2.376670284641213e+77\n",
      "-4.515673540818305e+78\n",
      "8.579779727554779e+79\n",
      "-1.6301581482354081e+81\n",
      "3.097300481647275e+82\n",
      "-5.884870915129819e+83\n",
      "1.1181254738746655e+85\n",
      "-2.1244384003618647e+86\n",
      "4.036432960687544e+87\n",
      "-7.669222625306334e+88\n",
      "1.4571522988082036e+90\n",
      "-2.7685893677355875e+91\n",
      "5.260319798697617e+92\n",
      "-9.994607617525477e+93\n",
      "1.8989754473298407e+95\n",
      "-3.6080533499266975e+96\n",
      "6.855301364860724e+97\n",
      "-1.3025072593235382e+99\n",
      "2.4747637927147226e+100\n",
      "-4.7020512061579735e+101\n",
      "8.933897291700151e+102\n",
      "-1.6974404854230283e+104\n",
      "3.225136922303754e+105\n",
      "-6.1277601523771345e+106\n",
      "1.1642744289516551e+108\n",
      "-2.2121214150081444e+109\n",
      "4.203030688515474e+110\n",
      "-7.985758308179401e+111\n",
      "1.5172940785540858e+113\n",
      "-2.8828587492527634e+114\n",
      "5.47743162358025e+115\n",
      "-1.0407120084802473e+117\n",
      "1.9773528161124705e+118\n",
      "-3.7569703506136946e+119\n",
      "7.13824366616602e+120\n",
      "-1.356266296571544e+122\n",
      "2.5769059634859335e+123\n",
      "-4.896121330623276e+124\n",
      "9.302630528184229e+125\n",
      "-1.7674998003550034e+127\n",
      "3.358249620674508e+128\n"
     ]
    }
   ],
   "source": [
    "b = 0\n",
    "learning_rate = 0.1  \n",
    "\n",
    "epochs = 100\n",
    "n = len(X)\n",
    "\n",
    "for i in range(epochs):\n",
    "\n",
    "    slope = -2 * np.sum(Y - m * X.ravel() - b)\n",
    "    b= b - learning_rate * slope\n",
    "    print(b)\n",
    "    \n"
   ]
  },
  {
   "cell_type": "code",
   "execution_count": null,
   "id": "a5c09271",
   "metadata": {},
   "outputs": [],
   "source": []
  }
 ],
 "metadata": {
  "kernelspec": {
   "display_name": "Python 3",
   "language": "python",
   "name": "python3"
  },
  "language_info": {
   "codemirror_mode": {
    "name": "ipython",
    "version": 3
   },
   "file_extension": ".py",
   "mimetype": "text/x-python",
   "name": "python",
   "nbconvert_exporter": "python",
   "pygments_lexer": "ipython3",
   "version": "3.10.0"
  }
 },
 "nbformat": 4,
 "nbformat_minor": 5
}
